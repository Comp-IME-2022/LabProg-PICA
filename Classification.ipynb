{
 "cells": [
  {
   "cell_type": "code",
   "execution_count": 254,
   "metadata": {},
   "outputs": [],
   "source": [
    "from bs4 import BeautifulSoup\n",
    "import requests\n",
    "\n",
    "def pega_nota_nome(numero):\n",
    "    cookies = {\n",
    "        '_ga': 'GA1.2.517432061.1583414429',\n",
    "        'ASPSESSIONIDSSDBRDQB': 'PLOFGHMDCJDHCHFPOMDMAALI',\n",
    "        'ASPSESSIONIDQQDCTAQA': 'KFHNJNMDDJCIIMCLGLOPFCKH',\n",
    "        'ASPSESSIONIDSQDASBRA': 'PHBBBENDGMNPKHIJGFNHIPFL',\n",
    "    }\n",
    "\n",
    "    headers = {\n",
    "        'Connection': 'keep-alive',\n",
    "        'Cache-Control': 'no-cache',\n",
    "        'Upgrade-Insecure-Requests': '1',\n",
    "        'User-Agent': 'Mozilla/5.0 (X11; Linux x86_64) AppleWebKit/537.36 (KHTML, like Gecko) Chrome/87.0.4280.66 Safari/537.36',\n",
    "        'Origin': 'http://granito.ime.eb.br',\n",
    "        'Content-Type': 'application/x-www-form-urlencoded',\n",
    "        'Accept': 'image/avif,image/webp,image/apng,image/*,*/*;q=0.8',\n",
    "        'Referer': 'http://granito.ime.eb.br/Granito/SisGradWeb/BolGrausAluno.asp',\n",
    "        'Accept-Language': 'en-US,en;q=0.9,pt;q=0.8',\n",
    "        'Pragma': 'no-cache',\n",
    "    }\n",
    "\n",
    "    data = {\n",
    "      'txtCodigo': numero,\n",
    "      'txtAno': '2020',\n",
    "      'txtPeriodo': '2',\n",
    "      'submit1': 'Continua'\n",
    "    }\n",
    "\n",
    "    response = requests.post('http://granito.ime.eb.br/Granito/SisGradWeb/BolGrausAluno.asp', headers=headers, cookies=cookies, data=data, verify=False)\n",
    "\n",
    "    return  BeautifulSoup(response.text, 'html.parser')"
   ]
  },
  {
   "cell_type": "code",
   "execution_count": 203,
   "metadata": {},
   "outputs": [],
   "source": [
    "with open(\"alunos.html\") as fp:\n",
    "    base_de_dados = BeautifulSoup(fp, 'html.parser')"
   ]
  },
  {
   "cell_type": "code",
   "execution_count": 298,
   "metadata": {},
   "outputs": [
    {
     "name": "stdout",
     "output_type": "stream",
     "text": [
      "9,04\n"
     ]
    }
   ],
   "source": [
    "soup.find_all(width=\"150\")[0].contents[1].strip()"
   ]
  },
  {
   "cell_type": "code",
   "execution_count": 237,
   "metadata": {},
   "outputs": [
    {
     "name": "stdout",
     "output_type": "stream",
     "text": [
      "18004\n"
     ]
    }
   ],
   "source": [
    "print(base_de_dados.find_all(width=\"8%\")[3].contents[0])"
   ]
  },
  {
   "cell_type": "code",
   "execution_count": 240,
   "metadata": {},
   "outputs": [],
   "source": [
    "numeros_dos_alunos=[]\n",
    "for aluno in base_de_dados.find_all(width=\"8%\"):\n",
    "    numeros_dos_alunos.append(aluno.contents[0])"
   ]
  },
  {
   "cell_type": "code",
   "execution_count": 241,
   "metadata": {},
   "outputs": [
    {
     "name": "stdout",
     "output_type": "stream",
     "text": [
      "['18001', '18002', '18401', '18004', '17403', '18005', '18006', '18402', '18007', '18008', '18009', '18010', '18403', '18404', '18013', '18014', '17009', '18016', '18018', '17011', '18020', '18405', '18021', '18407', '18023', '18024', '18025', '17013', '18026', '18027', '18028', '18408', '18030', '18031', '18032', '17026', '18033', '18034', '18410', '18035', '18036', '18037', '18412', '18038', '18039', '18041', '18413', '18042', '18043', '17036', '18416', '18044', '18418', '18046', '18048', '18049', '17038', '18050', '18419', '18052', '18053', '17415', '17416', '18055', '18056', '18420', '18057', '18058', '18421', '18060', '18422', '17419', '18062', '18063', '18064', '18065', '18066', '18067', '18068', '18069', '18071', '18072', '18073', '18074']\n"
     ]
    }
   ],
   "source": [
    "print(numeros_dos_alunos)"
   ]
  },
  {
   "cell_type": "code",
   "execution_count": 299,
   "metadata": {},
   "outputs": [],
   "source": [
    "alunos = {}\n",
    "for numero in numeros_dos_alunos:\n",
    "    soup = pega_nota_nome(numero)\n",
    "    textos = list(soup.stripped_strings)\n",
    "    aluno = textos[8]\n",
    "    nota = soup.find_all(width=\"150\")[0].contents[1].strip()\n",
    "    nota = float(nota.replace(\",\",\".\"))\n",
    "    alunos[aluno] = nota"
   ]
  },
  {
   "cell_type": "code",
   "execution_count": 300,
   "metadata": {},
   "outputs": [
    {
     "name": "stdout",
     "output_type": "stream",
     "text": [
      "{'18001 - ADRIANO LUCAS MACHADO CORREA SCHULZ E SILVA': 8.2, '18002 - ALEXANDRE BESTWINA': 8.31, '18401 - ALEXANDRE PINHEIRO GUIMARAES': 7.8, '18004 - ANA CAROLINA ACCIOLY MONTEIRO': 7.89, '17403 - ANA CAROLINA LOBO NOBRE FERNANDES': 7.81, '18005 - ANA LUIZA BUSE DA SILVA': 7.6, '18006 - ANTONIO SANTANA DE OLIVEIRA': 8.01, '18402 - ARNON DE MELLO BARBOSA': 8.17, '18007 - ARTUR GOMES TUYAMA': 8.67, '18008 - BARBARA DA COSTA ARAUJO': 6.93, '18009 - BEATRIZ LUBERIAGA BEZERRA': 7.88, '18010 - BENTO FERREIRA GOMES NETO': 6.83, '18403 - BIANCA DE MEIRA LOPES': 7.5, '18404 - BRUNO GORRESEN MELLO': 8.41, '18013 - CAIO CHAVES BEZERRA ROCHA': 7.92, '18014 - CAIO DA SILVA PONTES': 7.74, '17009 - CARLOS FILIPE FERREIRA DE SOUZA': 7.32, '18016 - CECILIA HENRIQUES DOS SANTOS FEITOSA': 7.58, '18018 - CLARA BEATRIZ MELO MOREIRA CAMINHA': 8.54, '17011 - CLARA REIS PRATA BALDANSA': 7.49, '18020 - CLAUDIO JOSE FERRO DE SA FERREIRA VASCONCELOS': 8.44, '18405 - DANIEL DAHER MOURA': 7.76, '18021 - DANILO RAMOS RODRIGUES FIGUEIREDO': 7.35, '18407 - DAVI BONFIM MORAES MORANT DE HOLANDA': 7.34, '18023 - DAVI HUGO MARQUES PONTES': 8.22, '18024 - DAVI RICARDO SANTOS DE SOUSA': 6.98, '18025 - DIENE XIE': 7.93, '17013 - EDGARD GUITTON RENAUD BAPTISTA DE OLIVEIRA': 7.91, '18026 - EDUARDO WILLRICH PADILHA PADOVANY': 7.44, '18027 - FELIPE YAMAMOTO FERREIRA AGUIAR': 7.7, '18028 - FERNANDA PASCOA LEMOS': 8.01, '18408 - GABRIEL BARBOSA MEIRELES': 7.86, '18030 - GABRIEL FERNANDEZ SANTOS': 7.97, '18031 - GABRIEL FLINTZ FRAGA MARQUES': 8.38, '18032 - GABRIEL HENRIQUE CABEZAS ASSIS': 8.31, '17026 - GABRIEL PESSOA PAIVA': 7.06, '18033 - GABRIEL RIBEIRO BARBOSA': 7.94, '18034 - GABRIELLE MAIA BALTAZAR': 7.9, '18410 - GUILHERME CLEMENTINO DE SA MENEZES': 7.76, '18035 - GUILHERME TAVARES GAUDARD': 7.4, '18036 - GUSTAVO ALVES CASQUEIRO': 8.45, '18037 - GUSTAVO ATALA TESTONI': 9.04, '18412 - GUSTAVO MARTINS PINHEIRO': 7.21, '18038 - HARLLON OLIVEIRA DA PAZ': 8.31, '18039 - HENRIQUE CARNEIRO CAPUTO': 8.14, '18041 - IZADORA BANDOCH': 7.74, '18413 - JOÃO MIGUEL DE LIMA FILHO': 7.49, '18042 - JOAO PEDRO DE MEDEIROS GOMES': 8.21, '18043 - JOÃO VICTOR DE OLIVEIRA QUEIROZ': 8.15, '17036 - JOSE LAURO DE OLIVEIRA SCHRAMM': 7.37, '18416 - JULIA PERDIGAO SALTIEL': 8.63, '18044 - LANDERMAN DE LIMA MEDEIROS GUIMARAES': 7.58, '18418 - LEONARDO DE ARAUJO DUARTE': 7.89, '18046 - LEONARDO PARAIBA CIDRAO': 7.52, '18048 - LINCOLN ESTEVES DOS ANJOS SILVA': 7.96, '18049 - LUCAS DUARTE FERNANDES': 7.98, '17038 - LUCAS FROTA GRANGEIRO': 7.73, '18050 - LUCAS HENRIQUE BRITO RODRIGUEZ': 7.44, '18419 - LUÍS FELIPE MATUCHEWSKI': 8.28, '18052 - LUIZ ARTHUR COUTINHO DE BRITO': 7.47, '18053 - LUIZ CARLOS VIANA FRANCELINO FILHO': 8.12, '17415 - MARCELLE MANHAES GAIO FILARDI': 7.72, '17416 - MARCELO HENRIQUE PILLONETTO': 6.4, '18055 - MARCOS PAULO LIMA ARAÚJO PEREIRA': 8.64, '18056 - MARIA JÚLIA COSTA MEDEIROS': 8.46, '18420 - MATHEUS FERNANDES VIVAS DA SILVA': 7.03, '18057 - NEUTON SEVERO DE FARIAS NETO': 8.21, '18058 - PAULO GUILHERME FARIAS DE SOUZA': 7.73, '18421 - PEDRO DE SOUZA MARTINS': 8.27, '18060 - PEDRO NOVAES CARNEVALE': 8.51, '18422 - PIETRO MOTTA GERONIMI': 7.56, '17419 - RAFAEL TCHEN YIN HANG WEI': 8.11, '18062 - RODRIGO NAUE PINHEIRO': 7.78, '18063 - TALES CHAVES BEZERRA ROCHA': 8.35, '18064 - TALITA LIMA ARAUJO': 7.5, '18065 - THAINÁ LUCCIOLA HIPOLITO DE LIMA': 8.17, '18066 - THAIS DA SILVA PADILHA': 7.51, '18067 - ULISSES FERREIRA DE SOUSA': 7.72, '18068 - VICTOR CHOAIRY': 8.56, '18069 - VICTOR SCHAUMANN DA SILVA': 7.71, '18071 - VILSON WENIS DOS SANTOS BELLE': 8.52, '18072 - VINICIUS RIBEIRO CAVALEIRO DE MACEDO': 8.84, '18073 - VITOR ROCHA GONÇALVES': 7.54, '18074 - YURY DA SILVA LOUREIRO': 7.86}\n"
     ]
    }
   ],
   "source": [
    "print(alunos)"
   ]
  },
  {
   "cell_type": "code",
   "execution_count": 303,
   "metadata": {},
   "outputs": [
    {
     "name": "stdout",
     "output_type": "stream",
     "text": [
      "8.2\n"
     ]
    }
   ],
   "source": [
    "print(alunos[\"18001 - ADRIANO LUCAS MACHADO CORREA SCHULZ E SILVA\"])"
   ]
  },
  {
   "cell_type": "code",
   "execution_count": 304,
   "metadata": {},
   "outputs": [],
   "source": [
    "import csv"
   ]
  },
  {
   "cell_type": "code",
   "execution_count": 308,
   "metadata": {},
   "outputs": [],
   "source": [
    "with open('class.csv', 'w') as fp:\n",
    "    for key in alunos:\n",
    "        fp.write(\"%s, %s\\n\"%(key, alunos[key]))"
   ]
  }
 ],
 "metadata": {
  "kernelspec": {
   "display_name": "Python 3",
   "language": "python",
   "name": "python3"
  },
  "language_info": {
   "codemirror_mode": {
    "name": "ipython",
    "version": 3
   },
   "file_extension": ".py",
   "mimetype": "text/x-python",
   "name": "python",
   "nbconvert_exporter": "python",
   "pygments_lexer": "ipython3",
   "version": "3.7.6"
  }
 },
 "nbformat": 4,
 "nbformat_minor": 4
}
